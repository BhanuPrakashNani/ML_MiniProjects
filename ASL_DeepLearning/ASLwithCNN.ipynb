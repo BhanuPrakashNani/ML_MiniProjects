{
 "cells": [
  {
   "cell_type": "markdown",
   "metadata": {
    "colab_type": "text",
    "id": "view-in-github"
   },
   "source": [
    "<a href=\"https://colab.research.google.com/github/Arshad221b/Sign-Language-Recognition-/blob/master/ASLwithCNN.ipynb\" target=\"_parent\"><img src=\"https://colab.research.google.com/assets/colab-badge.svg\" alt=\"Open In Colab\"/></a>"
   ]
  },
  {
   "cell_type": "code",
   "execution_count": 7,
   "metadata": {
    "colab": {
     "base_uri": "https://localhost:8080/",
     "height": 74
    },
    "colab_type": "code",
    "id": "VdNgPyvDWEUS",
    "outputId": "32524036-570e-4299-a379-9fbc9594e524"
   },
   "outputs": [],
   "source": [
    "import keras\n",
    "import numpy as np\n",
    "import pandas as pd\n",
    "import cv2\n",
    "from matplotlib import pyplot as plt\n",
    "from keras.models import Sequential \n",
    "from keras.layers import Dense, Conv2D , MaxPool2D , Flatten , Dropout , BatchNormalization\n",
    "from keras.datasets import mnist \n",
    "import matplotlib.pyplot as plt\n",
    "from keras.utils import np_utils\n",
    "from keras.optimizers import SGD"
   ]
  },
  {
   "cell_type": "code",
   "execution_count": 8,
   "metadata": {
    "colab": {},
    "colab_type": "code",
    "id": "cbSWnRL-Weng"
   },
   "outputs": [],
   "source": [
    "train = pd.read_csv('/home/bhanu/train.csv')"
   ]
  },
  {
   "cell_type": "code",
   "execution_count": 9,
   "metadata": {
    "colab": {},
    "colab_type": "code",
    "id": "xLgX8B76Wpz4"
   },
   "outputs": [],
   "source": [
    "test = pd.read_csv('/home/bhanu/test.csv')"
   ]
  },
  {
   "cell_type": "code",
   "execution_count": 10,
   "metadata": {
    "colab": {},
    "colab_type": "code",
    "id": "APs14-zkaRwl"
   },
   "outputs": [],
   "source": [
    "y_train = train['label'].values\n",
    "y_test = test['label'].values\n",
    "\n",
    "X_train = train.drop(['label'],axis=1)\n",
    "X_test = test.drop(['label'], axis=1)\n",
    "\n",
    "X_train = np.array(X_train.iloc[:,:])\n",
    "X_train = np.array([np.reshape(i, (28,28)) for i in X_train])\n",
    "\n",
    "X_test = np.array(X_test.iloc[:,:])\n",
    "X_test = np.array([np.reshape(i, (28,28)) for i in X_test])\n",
    "\n",
    "num_classes = 26\n",
    "y_train = np.array(y_train).reshape(-1)\n",
    "y_test = np.array(y_test).reshape(-1)\n",
    "\n",
    "y_train = np.eye(num_classes)[y_train]\n",
    "y_test = np.eye(num_classes)[y_test]"
   ]
  },
  {
   "cell_type": "code",
   "execution_count": 11,
   "metadata": {
    "colab": {},
    "colab_type": "code",
    "id": "VG7bDv9xkS1h"
   },
   "outputs": [],
   "source": [
    "X_train = X_train.reshape((27455, 28, 28, 1))\n",
    "X_test = X_test.reshape((7172, 28, 28, 1))"
   ]
  },
  {
   "cell_type": "code",
   "execution_count": 14,
   "metadata": {
    "colab": {
     "base_uri": "https://localhost:8080/",
     "height": 179
    },
    "colab_type": "code",
    "id": "pX7X-hS9W1PB",
    "outputId": "94dc0a57-37ee-4cb2-8985-0150678d09f1"
   },
   "outputs": [
    {
     "name": "stdout",
     "output_type": "stream",
     "text": [
      "Model: \"sequential_3\"\n",
      "_________________________________________________________________\n",
      "Layer (type)                 Output Shape              Param #   \n",
      "=================================================================\n",
      "conv2d_5 (Conv2D)            (None, 28, 28, 75)        750       \n",
      "_________________________________________________________________\n",
      "batch_normalization_4 (Batch (None, 28, 28, 75)        300       \n",
      "_________________________________________________________________\n",
      "max_pooling2d_4 (MaxPooling2 (None, 14, 14, 75)        0         \n",
      "_________________________________________________________________\n",
      "conv2d_6 (Conv2D)            (None, 14, 14, 50)        33800     \n",
      "_________________________________________________________________\n",
      "dropout_3 (Dropout)          (None, 14, 14, 50)        0         \n",
      "_________________________________________________________________\n",
      "batch_normalization_5 (Batch (None, 14, 14, 50)        200       \n",
      "_________________________________________________________________\n",
      "max_pooling2d_5 (MaxPooling2 (None, 7, 7, 50)          0         \n",
      "_________________________________________________________________\n",
      "conv2d_7 (Conv2D)            (None, 7, 7, 25)          11275     \n",
      "_________________________________________________________________\n",
      "batch_normalization_6 (Batch (None, 7, 7, 25)          100       \n",
      "_________________________________________________________________\n",
      "max_pooling2d_6 (MaxPooling2 (None, 4, 4, 25)          0         \n",
      "_________________________________________________________________\n",
      "flatten_2 (Flatten)          (None, 400)               0         \n",
      "_________________________________________________________________\n",
      "dense_3 (Dense)              (None, 512)               205312    \n",
      "_________________________________________________________________\n",
      "dropout_4 (Dropout)          (None, 512)               0         \n",
      "_________________________________________________________________\n",
      "dense_4 (Dense)              (None, 26)                13338     \n",
      "=================================================================\n",
      "Total params: 265,075\n",
      "Trainable params: 264,775\n",
      "Non-trainable params: 300\n",
      "_________________________________________________________________\n"
     ]
    }
   ],
   "source": [
    "model = Sequential()\n",
    "model.add(Conv2D(75 , (3,3) , strides = 1 , padding = 'same' , activation = 'relu' , input_shape = (28,28,1)))\n",
    "model.add(BatchNormalization())\n",
    "model.add(MaxPool2D((2,2) , strides = 2 , padding = 'same'))\n",
    "model.add(Conv2D(50 , (3,3) , strides = 1 , padding = 'same' , activation = 'relu'))\n",
    "model.add(Dropout(0.2))\n",
    "model.add(BatchNormalization())\n",
    "model.add(MaxPool2D((2,2) , strides = 2 , padding = 'same'))\n",
    "model.add(Conv2D(25 , (3,3) , strides = 1 , padding = 'same' , activation = 'relu'))\n",
    "model.add(BatchNormalization())\n",
    "model.add(MaxPool2D((2,2) , strides = 2 , padding = 'same'))\n",
    "model.add(Flatten())\n",
    "model.add(Dense(units = 512 , activation = 'relu'))\n",
    "model.add(Dropout(0.3))\n",
    "model.add(Dense(units = 26 , activation = 'softmax'))\n",
    "model.compile(optimizer = 'adam' , loss = 'categorical_crossentropy' , metrics = ['accuracy'])\n",
    "model.summary()"
   ]
  },
  {
   "cell_type": "code",
   "execution_count": 18,
   "metadata": {
    "colab": {
     "base_uri": "https://localhost:8080/",
     "height": 1756
    },
    "colab_type": "code",
    "id": "Y20PZzLxW-eO",
    "outputId": "2062a984-4ec7-4a8f-acc8-344ff47d98c1"
   },
   "outputs": [
    {
     "name": "stdout",
     "output_type": "stream",
     "text": [
      "Epoch 1/15\n",
      "27455/27455 [==============================] - 72s 3ms/step - loss: 0.0118 - accuracy: 0.9959\n",
      "Epoch 2/15\n",
      "27455/27455 [==============================] - 73s 3ms/step - loss: 0.0080 - accuracy: 0.9973\n",
      "Epoch 3/15\n",
      "27455/27455 [==============================] - 69s 3ms/step - loss: 0.0079 - accuracy: 0.9975\n",
      "Epoch 4/15\n",
      "27455/27455 [==============================] - 68s 2ms/step - loss: 0.0088 - accuracy: 0.9975\n",
      "Epoch 5/15\n",
      "27455/27455 [==============================] - 67s 2ms/step - loss: 0.0022 - accuracy: 0.9992\n",
      "Epoch 6/15\n",
      "27455/27455 [==============================] - 66s 2ms/step - loss: 8.3232e-04 - accuracy: 0.9997\n",
      "Epoch 7/15\n",
      "27455/27455 [==============================] - 70s 3ms/step - loss: 0.0082 - accuracy: 0.9979\n",
      "Epoch 8/15\n",
      "27455/27455 [==============================] - 72s 3ms/step - loss: 0.0184 - accuracy: 0.9941\n",
      "Epoch 9/15\n",
      "27455/27455 [==============================] - 69s 3ms/step - loss: 0.0052 - accuracy: 0.9982\n",
      "Epoch 10/15\n",
      "27455/27455 [==============================] - 68s 2ms/step - loss: 0.0055 - accuracy: 0.9983\n",
      "Epoch 11/15\n",
      "27455/27455 [==============================] - 73s 3ms/step - loss: 0.0028 - accuracy: 0.9992\n",
      "Epoch 12/15\n",
      "27455/27455 [==============================] - 81s 3ms/step - loss: 0.0015 - accuracy: 0.9995\n",
      "Epoch 13/15\n",
      "27455/27455 [==============================] - 81s 3ms/step - loss: 1.4324e-04 - accuracy: 1.0000\n",
      "Epoch 14/15\n",
      "27455/27455 [==============================] - 79s 3ms/step - loss: 0.0016 - accuracy: 0.9994\n",
      "Epoch 15/15\n",
      "27455/27455 [==============================] - 77s 3ms/step - loss: 0.0026 - accuracy: 0.9993\n"
     ]
    },
    {
     "data": {
      "text/plain": [
       "<keras.callbacks.callbacks.History at 0x7fc71fb6d978>"
      ]
     },
     "execution_count": 18,
     "metadata": {},
     "output_type": "execute_result"
    }
   ],
   "source": [
    "model.compile(loss='categorical_crossentropy', optimizer='adam', metrics=['accuracy'])\n",
    "model.fit(X_train, y_train, epochs=15, batch_size=128)"
   ]
  },
  {
   "cell_type": "code",
   "execution_count": 20,
   "metadata": {
    "colab": {
     "base_uri": "https://localhost:8080/",
     "height": 92
    },
    "colab_type": "code",
    "id": "Q9dEumbZckZ1",
    "outputId": "24bd96d4-2b0d-4a35-e5ab-32f445811512"
   },
   "outputs": [
    {
     "name": "stdout",
     "output_type": "stream",
     "text": [
      "7172/7172 [==============================] - 4s 527us/step\n",
      "Accuracy:  94.03234720230103\n"
     ]
    }
   ],
   "source": [
    "accuracy = model.evaluate(x=X_test,y=y_test,batch_size=32)\n",
    "print(\"Accuracy: \",accuracy[1]*100)"
   ]
  },
  {
   "cell_type": "code",
   "execution_count": 19,
   "metadata": {
    "colab": {
     "base_uri": "https://localhost:8080/",
     "height": 439
    },
    "colab_type": "code",
    "id": "Y3ugo3XtmKoZ",
    "outputId": "cc60e2c4-8a49-440e-ee02-ddea623bd740"
   },
   "outputs": [
    {
     "name": "stdout",
     "output_type": "stream",
     "text": [
      "Model: \"sequential_3\"\n",
      "_________________________________________________________________\n",
      "Layer (type)                 Output Shape              Param #   \n",
      "=================================================================\n",
      "conv2d_5 (Conv2D)            (None, 28, 28, 75)        750       \n",
      "_________________________________________________________________\n",
      "batch_normalization_4 (Batch (None, 28, 28, 75)        300       \n",
      "_________________________________________________________________\n",
      "max_pooling2d_4 (MaxPooling2 (None, 14, 14, 75)        0         \n",
      "_________________________________________________________________\n",
      "conv2d_6 (Conv2D)            (None, 14, 14, 50)        33800     \n",
      "_________________________________________________________________\n",
      "dropout_3 (Dropout)          (None, 14, 14, 50)        0         \n",
      "_________________________________________________________________\n",
      "batch_normalization_5 (Batch (None, 14, 14, 50)        200       \n",
      "_________________________________________________________________\n",
      "max_pooling2d_5 (MaxPooling2 (None, 7, 7, 50)          0         \n",
      "_________________________________________________________________\n",
      "conv2d_7 (Conv2D)            (None, 7, 7, 25)          11275     \n",
      "_________________________________________________________________\n",
      "batch_normalization_6 (Batch (None, 7, 7, 25)          100       \n",
      "_________________________________________________________________\n",
      "max_pooling2d_6 (MaxPooling2 (None, 4, 4, 25)          0         \n",
      "_________________________________________________________________\n",
      "flatten_2 (Flatten)          (None, 400)               0         \n",
      "_________________________________________________________________\n",
      "dense_3 (Dense)              (None, 512)               205312    \n",
      "_________________________________________________________________\n",
      "dropout_4 (Dropout)          (None, 512)               0         \n",
      "_________________________________________________________________\n",
      "dense_4 (Dense)              (None, 26)                13338     \n",
      "=================================================================\n",
      "Total params: 265,075\n",
      "Trainable params: 264,775\n",
      "Non-trainable params: 300\n",
      "_________________________________________________________________\n"
     ]
    }
   ],
   "source": [
    "model.summary()"
   ]
  },
  {
   "cell_type": "code",
   "execution_count": 21,
   "metadata": {
    "colab": {},
    "colab_type": "code",
    "id": "-r9GxkiFRyl7"
   },
   "outputs": [],
   "source": [
    "model.save('/home/bhanu/CNNmodel.h5')"
   ]
  },
  {
   "cell_type": "code",
   "execution_count": 29,
   "metadata": {
    "colab": {
     "base_uri": "https://localhost:8080/",
     "height": 529
    },
    "colab_type": "code",
    "id": "T1b-rpZ0SH61",
    "outputId": "20a3ea54-c6ab-4d44-c415-29345642b01c"
   },
   "outputs": [],
   "source": [
    "from keras.models import load_model\n",
    "from skimage.transform import resize, pyramid_reduce\n",
    "import PIL\n",
    "from PIL import Image\n",
    "import cv2"
   ]
  },
  {
   "cell_type": "code",
   "execution_count": 24,
   "metadata": {
    "colab": {
     "base_uri": "https://localhost:8080/",
     "height": 74
    },
    "colab_type": "code",
    "id": "yRpbDys4TH5U",
    "outputId": "1bdc91e3-b643-45d3-b554-66f1feea7bd3"
   },
   "outputs": [],
   "source": [
    "def prediction(pred):\n",
    "    return(chr(pred + 65))"
   ]
  },
  {
   "cell_type": "code",
   "execution_count": 27,
   "metadata": {
    "colab": {},
    "colab_type": "code",
    "id": "XeEDOSACyGLG"
   },
   "outputs": [],
   "source": [
    "model = model\n",
    "image = cv2.imread('/home/bhanu/009.png',cv2.IMREAD_UNCHANGED)\n",
    "im4 = np.resize(image, (28, 28, 1))\n",
    "im5 = np.expand_dims(im4,axis=0)\n",
    "data = np.asarray(im5, dtype=\"int32\" )\n",
    "pred_probab = model.predict(data)[0]\n",
    "pred_class = list(pred_probab).index(max(pred_probab))"
   ]
  },
  {
   "cell_type": "code",
   "execution_count": 31,
   "metadata": {},
   "outputs": [
    {
     "name": "stdout",
     "output_type": "stream",
     "text": [
      "K\n"
     ]
    }
   ],
   "source": [
    "print(prediction(pred_class))\n",
    "cv2.imshow(\"image\",image)"
   ]
  },
  {
   "cell_type": "code",
   "execution_count": null,
   "metadata": {},
   "outputs": [],
   "source": []
  }
 ],
 "metadata": {
  "accelerator": "GPU",
  "colab": {
   "include_colab_link": true,
   "name": "ASLwithCNN.ipynb",
   "provenance": [],
   "version": "0.3.2"
  },
  "kernelspec": {
   "display_name": "Python 3",
   "language": "python",
   "name": "python3"
  },
  "language_info": {
   "codemirror_mode": {
    "name": "ipython",
    "version": 3
   },
   "file_extension": ".py",
   "mimetype": "text/x-python",
   "name": "python",
   "nbconvert_exporter": "python",
   "pygments_lexer": "ipython3",
   "version": "3.6.9"
  }
 },
 "nbformat": 4,
 "nbformat_minor": 1
}
